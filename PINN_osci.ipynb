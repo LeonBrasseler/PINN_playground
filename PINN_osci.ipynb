{
 "nbformat": 4,
 "nbformat_minor": 0,
 "metadata": {
  "colab": {
   "provenance": [],
   "gpuType": "T4",
   "include_colab_link": true
  },
  "kernelspec": {
   "name": "python3",
   "display_name": "Python 3 (ipykernel)",
   "language": "python"
  },
  "language_info": {
   "name": "python"
  },
  "accelerator": "GPU"
 },
 "cells": [
  {
   "cell_type": "code",
   "metadata": {
    "id": "PP1GyIm6KQHg",
    "collapsed": true,
    "outputId": "9cb99f0c-672e-460d-cb3a-40b1e6da78ad",
    "colab": {
     "base_uri": "https://localhost:8080/"
    }
   },
   "source": [
    "# !pip install torch\n",
    "# !pip install deepxde"
   ],
   "outputs": [],
   "execution_count": null
  },
  {
   "cell_type": "code",
   "source": [
    "# import tensorflow.compat.v1 as tf\n",
    "# tf.enable_eager_execution()\n",
    "import os\n",
    "os.environ[\"DDE_BACKEND\"] = \"pytorch\"\n",
    "\n",
    "import deepxde as dde\n",
    "dde.config.set_default_float(\"float64\")\n",
    "import torch\n",
    "import torch.nn as nn\n",
    "import torch.nn.functional as F\n",
    "import numpy as np\n",
    "if torch.cuda.is_available():\n",
    "    print(\"CUDA available\")\n",
    "    torch.set_default_device(\"cuda\")\n",
    "    device = torch.device(\"cuda\")\n",
    "else:\n",
    "    print(\"CUDA *not* available\")\n",
    "    device = torch.device(\"cpu\")\n",
    "os.environ[\"DDE_BACKEND\"] = \"pytorch\"\n",
    "backend = os.environ[\"DDE_BACKEND\"]\n",
    "print(backend)"
   ],
   "metadata": {
    "colab": {
     "base_uri": "https://localhost:8080/"
    },
    "id": "ixLJ5gx5LLrC",
    "outputId": "3322bdeb-9f69-4a9e-93ca-d48465d59af1"
   },
   "outputs": [],
   "execution_count": null
  },
  {
   "cell_type": "code",
   "source": [
    "def net(input, output, hidden, num_hidden):\n",
    "  net = dde.nn.FNN([input] + [hidden] * num_hidden + [output], \"tanh\", \"Glorot uniform\",\n",
    "                  #  regularization=\"l2\"\n",
    "                   )\n",
    "  return net"
   ],
   "metadata": {
    "id": "by9uaOs_NHbQ"
   },
   "outputs": [],
   "execution_count": null
  },
  {
   "cell_type": "code",
   "source": [
    "# Constants\n",
    "d, w0 = torch.as_tensor([2.0], device=device), torch.as_tensor([20.0], device=device)\n",
    "mu, k = 2.0*d, w0**2.0\n",
    "m = torch.as_tensor([1.], device=device)\n",
    "# print(d.device)"
   ],
   "metadata": {
    "id": "8UlPPkbTWhWy"
   },
   "outputs": [],
   "execution_count": null
  },
  {
   "cell_type": "code",
   "source": [
    "# @tf.function\n",
    "def exact_solution(d, w0, t):\n",
    "    \"\"\"Defines the analytical solution to the under-damped harmonic oscillator problem above.\"\"\"\n",
    "    assert d < w0\n",
    "    w = torch.sqrt(w0**2-d**2)\n",
    "    phi = torch.arctan(-d/w)\n",
    "    A = 1/(2.*torch.cos(phi))\n",
    "    cos = torch.cos(phi+w*t)\n",
    "    exp = torch.exp(-d*t)\n",
    "    u = exp*2.*A*cos\n",
    "    return u"
   ],
   "metadata": {
    "id": "jyGUL6W1Pays"
   },
   "outputs": [],
   "execution_count": null
  },
  {
   "cell_type": "code",
   "source": [
    "# Define the residual\n",
    "# @tf.function\n",
    "def residual(input, output):\n",
    "  dxdt = dde.grad.jacobian(output, input, i=0)\n",
    "  dx2dt2 = dde.grad.jacobian(dxdt, input, i=0)\n",
    "\n",
    "  return torch.as_tensor(m * dx2dt2 + mu * dxdt + k * output)"
   ],
   "metadata": {
    "id": "N0S99tSUOdcr"
   },
   "outputs": [],
   "execution_count": null
  },
  {
   "cell_type": "code",
   "source": [
    "time_domain = dde.geometry.TimeDomain(0, 2)\n",
    "\n",
    "# def boundary_t(t, on_boundary):\n",
    "    # return on_boundary and dde.utils.isclose(t[0], 0)\n",
    "# def boundary_l(x, on_boundary):\n",
    "    # return on_boundary and dde.utils.isclose(x[0], 0)\n",
    "# def funcN(x):\n",
    "    # return torch.as_tensor([0.0], device=device).view(-1,1).requires_grad_(True)\n",
    "# def funcD(x):\n",
    "    # return torch.as_tensor([1.0], device=device).view(-1,1).requires_grad_(True)\n",
    "bc_l = dde.icbc.NeumannBC(time_domain, lambda x: 0, lambda t, on_boundary: on_boundary and dde.utils.isclose(t[0], 0))\n",
    "bc_r = dde.icbc.IC(time_domain, lambda x: 1, lambda _, on_initial: on_initial)"
   ],
   "metadata": {
    "id": "gxVdoHYQUS8R"
   },
   "outputs": [],
   "execution_count": null
  },
  {
   "cell_type": "code",
   "source": [
    "# tf.random.set_seed(123)\n",
    "\n",
    "# define a neural network to train\n",
    "pinn = net(1,1,hidden=200,num_hidden=4)\n",
    "# define boundary points, for the boundary loss\n",
    "# t_boundary = tf.constant(0.)\n",
    "\n",
    "# define training points over the entire domain, for the physics loss\n",
    "# t_physics = tf.linspace(0,1,30)\n",
    "\n",
    "# train the PINN"
   ],
   "metadata": {
    "id": "kPPw1ZCKPpr4"
   },
   "outputs": [],
   "execution_count": null
  },
  {
   "cell_type": "code",
   "source": [
    "def custom_loss(y_true, y_pred):\n",
    "    # print(y_true.shape)\n",
    "    # print(y_pred.shape)\n",
    "    loss = torch.mean((y_true - y_pred)**2)\n",
    "    # print(loss.shape)\n",
    "    return loss"
   ],
   "metadata": {
    "id": "WVcNp5xPK0Pn"
   },
   "outputs": [],
   "execution_count": null
  },
  {
   "cell_type": "code",
   "source": [
    "data = dde.data.TimePDE(time_domain, residual, [bc_l, bc_r], num_domain=1000,\n",
    "                        num_boundary=10, num_test=150)\n",
    "model = dde.Model(data, pinn)\n",
    "# model.outputs_modify(lambda x, y: x * y)\n",
    "optimizer = torch.optim.Adam(pinn.parameters(), lr=1e-3)\n",
    "model.compile(optimizer=optimizer, loss_weights=[1e-4, 1e-1, 1],\n",
    "              loss=lambda y_true, y_pred: custom_loss(y_true, y_pred))"
   ],
   "metadata": {
    "id": "vMBL2-8IVk1Y",
    "colab": {
     "base_uri": "https://localhost:8080/",
     "height": 362
    },
    "outputId": "6c274f10-1dbe-4066-c65a-5798334599ed"
   },
   "outputs": [],
   "execution_count": null
  },
  {
   "cell_type": "code",
   "source": [
    "losshistory, train_state = model.train(iterations=9000)\n",
    "# model.compile(\"L-BFGS\")\n",
    "# losshistory, train_state = model.train()"
   ],
   "metadata": {
    "colab": {
     "base_uri": "https://localhost:8080/"
    },
    "id": "DjKTTiEwV7Tf",
    "outputId": "1693108f-b2d1-4641-c82b-386b5f83aaf4"
   },
   "outputs": [],
   "execution_count": null
  },
  {
   "cell_type": "code",
   "source": [
    "dde.saveplot(losshistory, train_state, issave=True, isplot=True)"
   ],
   "metadata": {
    "colab": {
     "base_uri": "https://localhost:8080/",
     "height": 934
    },
    "id": "48b1qo5-rpoo",
    "outputId": "ed7258f1-6cc5-4b97-8b6d-cdcfc9cd6537"
   },
   "outputs": [],
   "execution_count": null
  },
  {
   "cell_type": "code",
   "source": [
    "import matplotlib.pyplot as plt\n",
    "t_test = torch.linspace(0,5,300, device=device).view(-1,1)\n",
    "u_exact = exact_solution(d, w0, t_test)\n",
    "t_test = t_test.cpu().numpy()\n",
    "u_exact = u_exact.cpu().numpy()\n",
    "u_pred = model.predict(t_test)\n",
    "plt.plot(t_test, u_exact)\n",
    "plt.plot(t_test, u_pred)\n",
    "plt.show()"
   ],
   "metadata": {
    "colab": {
     "base_uri": "https://localhost:8080/",
     "height": 430
    },
    "id": "AsegaJugg-DR",
    "outputId": "e6966b8a-bfa0-41e7-d1e4-2376e9c2401c"
   },
   "outputs": [],
   "execution_count": null
  }
 ]
}
